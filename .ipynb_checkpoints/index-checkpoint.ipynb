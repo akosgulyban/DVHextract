{
 "cells": [
  {
   "cell_type": "markdown",
   "metadata": {},
   "source": [
    "# Extracting DVH parameters for the EMBRACE 2\n",
    "## History of this hobby based project\n",
    "\n",
    "This project has several objectives:\n",
    "\n",
    "1) Creating a generalized DVH format for the EMBRACE 2 database\n",
    "\n",
    "2) Aid participating institutions to reformat text TPS specific DVHs to a uniformized format and extract semi automatically the protocol specific DVH parameters.\n",
    "\n",
    "## Workflow\n",
    "\n",
    "General idea of the workflow\n",
    "\n",
    "1) Upload the txt file to a temp directory\n",
    "[Upload](UploadFile.ipynb)\n",
    "\n",
    "2) Using the TPS specific extraction\n",
    "\n",
    "3) Download the uniformized EMBRACE 2 database compliant json file (http://www.json.org/)\n",
    "\n",
    "## Some further explanation\n",
    "\n",
    "1) Why using this specific solution (IPython notebook)\n",
    "\n",
    "2) TPS specific problems\n",
    "\n",
    "3) Annonymization of the text DVH files before uploading\n",
    "\n",
    "4) Feedback, contribution and suggestion for improvement\n",
    "\n"
   ]
  }
 ],
 "metadata": {
  "kernelspec": {
   "display_name": "Python 2",
   "language": "python",
   "name": "python2"
  },
  "language_info": {
   "codemirror_mode": {
    "name": "ipython",
    "version": 2
   },
   "file_extension": ".py",
   "mimetype": "text/x-python",
   "name": "python",
   "nbconvert_exporter": "python",
   "pygments_lexer": "ipython2",
   "version": "2.7.9"
  }
 },
 "nbformat": 4,
 "nbformat_minor": 0
}
