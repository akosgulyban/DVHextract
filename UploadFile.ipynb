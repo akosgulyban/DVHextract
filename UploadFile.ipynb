{
 "cells": [
  {
   "cell_type": "code",
   "execution_count": 1,
   "metadata": {
    "collapsed": false
   },
   "outputs": [
    {
     "name": "stderr",
     "output_type": "stream",
     "text": [
      ":0: FutureWarning: IPython widgets are experimental and may change in the future.\n"
     ]
    }
   ],
   "source": [
    "from __future__ import print_function # py 2.7 compat.\n",
    "\n",
    "import base64\n",
    "import urllib\n",
    "\n",
    "# Widget definitions.\n",
    "from IPython.html import widgets\n",
    "\n",
    "# Traitlet needed to add synced attributes to the widget.\n",
    "from IPython.utils.traitlets import Unicode"
   ]
  },
  {
   "cell_type": "markdown",
   "metadata": {},
   "source": [
    "This is a custom widget that allows the user to upload file data to the notebook server.  The file data is sent via a statefull `value` attribute of the widget.  The widget has an upload failed event that fires in the front-end and is echoed to the back-end using a custom msg."
   ]
  },
  {
   "cell_type": "code",
   "execution_count": 2,
   "metadata": {
    "collapsed": false
   },
   "outputs": [],
   "source": [
    "class FileWidget(widgets.DOMWidget):\n",
    "    _view_name = Unicode('FilePickerView', sync=True)\n",
    "    value = Unicode(sync=True)\n",
    "    filename = Unicode(sync=True)\n",
    "    \n",
    "    def __init__(self, **kwargs):\n",
    "        \"\"\"Constructor\"\"\"\n",
    "        widgets.DOMWidget.__init__(self, **kwargs) # Call the base.\n",
    "        \n",
    "        # Allow the user to register error callbacks with the following signatures:\n",
    "        #    callback()\n",
    "        #    callback(sender)\n",
    "        self.errors = widgets.CallbackDispatcher(accepted_nargs=[0, 1])\n",
    "        \n",
    "        # Listen for custom msgs\n",
    "        self.on_msg(self._handle_custom_msg)\n",
    "\n",
    "    def _handle_custom_msg(self, content):\n",
    "        \"\"\"Handle a msg from the front-end.\n",
    "\n",
    "        Parameters\n",
    "        ----------\n",
    "        content: dict\n",
    "            Content of the msg.\"\"\"\n",
    "        if 'event' in content and content['event'] == 'error':\n",
    "            self.errors()\n",
    "            self.errors(self)\n",
    "    "
   ]
  },
  {
   "cell_type": "code",
   "execution_count": 3,
   "metadata": {
    "collapsed": false
   },
   "outputs": [
    {
     "data": {
      "application/javascript": [
       "require(\n",
       "\n",
       "[\"jquery\", \"underscore\", \"widgets/js/manager\"],\n",
       "\n",
       "function($, _, wm, Dropzone){    \n",
       "    var FilePickerView = IPython.DOMWidgetView.extend({\n",
       "        render: function(){\n",
       "            // Render the view.\n",
       "            this.$el.append($(\"<input/>\", {type: \"file\"}));\n",
       "        },\n",
       "       \n",
       "        events: {\n",
       "            change: \"handle_file_change\"\n",
       "        },\n",
       "        \n",
       "        handle_file_change: function(evt) { \n",
       "            // Handle when the user has changed the file.\n",
       "            \n",
       "            // Retrieve the first (and only!) File from the FileList object\n",
       "            var file = evt.target.files[0];\n",
       "            if (file) {\n",
       "                // Read the file's textual content and set value to those contents.\n",
       "                var that = this;\n",
       "                var file_reader = new FileReader();\n",
       "                file_reader.onload = function(e) {\n",
       "                    that.model.set('value', e.target.result);\n",
       "                    that.touch();\n",
       "                }\n",
       "                // by using a `data:` url, we get a nice portable representation which can be\n",
       "                // easily rendered or embedded.\n",
       "                file_reader.readAsDataURL(file);\n",
       "            } else {\n",
       "                // The file couldn't be opened.  Send an error msg to the\n",
       "                // back-end.\n",
       "                this.send({event: 'error'});\n",
       "            }\n",
       "\n",
       "            // Set the filename of the file.\n",
       "            this.model.set('filename', file.name);\n",
       "            this.touch();\n",
       "        },\n",
       "    });\n",
       "        \n",
       "    // Register the DatePickerView with the widget manager.\n",
       "    wm.WidgetManager.register_widget_view('FilePickerView', FilePickerView);\n",
       "});"
      ],
      "text/plain": [
       "<IPython.core.display.Javascript object>"
      ]
     },
     "metadata": {},
     "output_type": "display_data"
    }
   ],
   "source": [
    "%%javascript\n",
    "require(\n",
    "\n",
    "[\"jquery\", \"underscore\", \"widgets/js/manager\"],\n",
    "\n",
    "function($, _, wm, Dropzone){    \n",
    "    var FilePickerView = IPython.DOMWidgetView.extend({\n",
    "        render: function(){\n",
    "            // Render the view.\n",
    "            this.$el.append($(\"<input/>\", {type: \"file\"}));\n",
    "        },\n",
    "       \n",
    "        events: {\n",
    "            change: \"handle_file_change\"\n",
    "        },\n",
    "        \n",
    "        handle_file_change: function(evt) { \n",
    "            // Handle when the user has changed the file.\n",
    "            \n",
    "            // Retrieve the first (and only!) File from the FileList object\n",
    "            var file = evt.target.files[0];\n",
    "            if (file) {\n",
    "                // Read the file's textual content and set value to those contents.\n",
    "                var that = this;\n",
    "                var file_reader = new FileReader();\n",
    "                file_reader.onload = function(e) {\n",
    "                    that.model.set('value', e.target.result);\n",
    "                    that.touch();\n",
    "                }\n",
    "                // by using a `data:` url, we get a nice portable representation which can be\n",
    "                // easily rendered or embedded.\n",
    "                file_reader.readAsDataURL(file);\n",
    "            } else {\n",
    "                // The file couldn't be opened.  Send an error msg to the\n",
    "                // back-end.\n",
    "                this.send({event: 'error'});\n",
    "            }\n",
    "\n",
    "            // Set the filename of the file.\n",
    "            this.model.set('filename', file.name);\n",
    "            this.touch();\n",
    "        },\n",
    "    });\n",
    "        \n",
    "    // Register the DatePickerView with the widget manager.\n",
    "    wm.WidgetManager.register_widget_view('FilePickerView', FilePickerView);\n",
    "});"
   ]
  },
  {
   "cell_type": "markdown",
   "metadata": {},
   "source": [
    " Once the data url gets back to the backend, we'll want to do some work against it: [this gist](https://gist.github.com/zacharyvoase/5538178) provides this nice API."
   ]
  },
  {
   "cell_type": "code",
   "execution_count": 10,
   "metadata": {
    "collapsed": true
   },
   "outputs": [],
   "source": [
    "import mimetypes\n",
    "import re\n",
    "import urllib\n",
    " \n",
    " \n",
    "MIMETYPE_REGEX = r'[\\w]+\\/[\\w\\-\\+\\.]+'\n",
    "_MIMETYPE_RE = re.compile('^{}$'.format(MIMETYPE_REGEX))\n",
    " \n",
    "CHARSET_REGEX = r'[\\w\\-\\+\\.]+'\n",
    "_CHARSET_RE = re.compile('^{}$'.format(CHARSET_REGEX))\n",
    " \n",
    "DATA_URI_REGEX = (\n",
    "    r'data:' +\n",
    "    r'(?P<mimetype>{})?'.format(MIMETYPE_REGEX) +\n",
    "    r'(?:\\;charset\\=(?P<charset>{}))?'.format(CHARSET_REGEX) +\n",
    "    r'(?P<base64>\\;base64)?' +\n",
    "    r',(?P<data>.*)')\n",
    "_DATA_URI_RE = re.compile(r'^{}$'.format(DATA_URI_REGEX), re.DOTALL)\n",
    " \n",
    " \n",
    "class DataURI(str):\n",
    " \n",
    "    @classmethod\n",
    "    def make(cls, mimetype, charset, base64, data):\n",
    "        parts = ['data:']\n",
    "        if mimetype is not None:\n",
    "            if not _MIMETYPE_RE.match(mimetype):\n",
    "                raise ValueError(\"Invalid mimetype: %r\" % mimetype)\n",
    "            parts.append(mimetype)\n",
    "        if charset is not None:\n",
    "            if not _CHARSET_RE.match(charset):\n",
    "                raise ValueError(\"Invalid charset: %r\" % charset)\n",
    "            parts.extend([';charset=', charset])\n",
    "        if base64:\n",
    "            parts.append(';base64')\n",
    "            encoded_data = data.encode('base64').replace('\\n', '')\n",
    "        else:\n",
    "            encoded_data = urllib.quote(data)\n",
    "        parts.extend([',', encoded_data])\n",
    "        return cls(''.join(parts))\n",
    " \n",
    "    @classmethod\n",
    "    def from_file(cls, filename, charset=None, base64=True):\n",
    "        mimetype, _ = mimetypes.guess_type(filename, strict=False)\n",
    "        with open(filename) as fp:\n",
    "            data = fp.read()\n",
    "        return cls.make(mimetype, charset, base64, data)\n",
    " \n",
    "    def __new__(cls, *args, **kwargs):\n",
    "        uri = super(DataURI, cls).__new__(cls, *args, **kwargs)\n",
    "        uri._parse  # Trigger any ValueErrors on instantiation.\n",
    "        return uri\n",
    " \n",
    "    def __repr__(self):\n",
    "        return 'DataURI(%s)' % (super(DataURI, self).__repr__(),)\n",
    " \n",
    "    def wrap(self, width=76):\n",
    "        return type(self)('\\n'.join(textwrap.wrap(self, width)))\n",
    " \n",
    "    @property\n",
    "    def mimetype(self):\n",
    "        return self._parse[0]\n",
    " \n",
    "    @property\n",
    "    def charset(self):\n",
    "        return self._parse[1]\n",
    " \n",
    "    @property\n",
    "    def is_base64(self):\n",
    "        return self._parse[2]\n",
    " \n",
    "    @property\n",
    "    def data(self):\n",
    "        return self._parse[3]\n",
    " \n",
    "    @property\n",
    "    def _parse(self):\n",
    "        match = _DATA_URI_RE.match(self)\n",
    "        if not match:\n",
    "            raise ValueError(\"Not a valid data URI: %r\" % self)\n",
    "        mimetype = match.group('mimetype') or None\n",
    "        charset = match.group('charset') or None\n",
    "        if match.group('base64'):\n",
    "            data = match.group('data').decode('base64')\n",
    "        else:\n",
    "            data = urllib.unquote(match.group('data'))\n",
    "        return mimetype, charset, bool(match.group('base64')), data"
   ]
  },
  {
   "cell_type": "markdown",
   "metadata": {},
   "source": [
    "The following shows how the file widget can be used."
   ]
  },
  {
   "cell_type": "code",
   "execution_count": 29,
   "metadata": {
    "collapsed": false
   },
   "outputs": [
    {
     "name": "stdout",
     "output_type": "stream",
     "text": [
      "Loading PatientX.csv\n",
      "Loaded, file saved as: PatientX.csv\n"
     ]
    }
   ],
   "source": [
    "import struct\n",
    "file_widget = FileWidget()\n",
    "\n",
    "# Register an event to echo the filename when it has been changed.\n",
    "def file_loading():\n",
    "    print(\"Loading %s\" % file_widget.filename)\n",
    "file_widget.on_trait_change(file_loading, 'filename')\n",
    "\n",
    "# Register an event to echo the filename and contents when a file\n",
    "# has been uploaded.\n",
    "def file_loaded():\n",
    "    uri = DataURI(file_widget.value)\n",
    "    filesave = './data/'+ file_widget.filename\n",
    "    with open('./data/'+ file_widget.filename, \"w+\") as f:\n",
    "        f.write(uri.data)\n",
    "    print(\"Loaded, file saved as: %s\" % file_widget.filename)\n",
    "file_widget.on_trait_change(file_loaded, 'value')\n",
    "\n",
    "# Register an event to print an error message when a file could not\n",
    "# be opened.  Since the error messages are not handled through\n",
    "# traitlets but instead handled through custom msgs, the registration\n",
    "# of the handler is different than the two examples above.  Instead\n",
    "# the API provided by the CallbackDispatcher must be used.\n",
    "def file_failed():\n",
    "    print(\"Could not load file contents of %s\" % file_widget.filename)\n",
    "file_widget.errors.register_callback(file_failed)\n",
    "\n",
    "file_widget"
   ]
  },
  {
   "cell_type": "code",
   "execution_count": null,
   "metadata": {
    "collapsed": true
   },
   "outputs": [],
   "source": []
  }
 ],
 "metadata": {
  "cell_tags": [
   [
    "<None>",
    null
   ]
  ],
  "kernelspec": {
   "display_name": "Python 2",
   "language": "python",
   "name": "python2"
  },
  "language_info": {
   "codemirror_mode": {
    "name": "ipython",
    "version": 2
   },
   "file_extension": ".py",
   "mimetype": "text/x-python",
   "name": "python",
   "nbconvert_exporter": "python",
   "pygments_lexer": "ipython2",
   "version": "2.7.9"
  }
 },
 "nbformat": 4,
 "nbformat_minor": 0
}
